{
 "cells": [
  {
   "cell_type": "code",
   "execution_count": null,
   "metadata": {},
   "outputs": [],
   "source": [
    "%matplotlib inline\n",
    "!pip install japanize-matplotlib | tail -n 1"
   ]
  },
  {
   "cell_type": "code",
   "execution_count": 1,
   "metadata": {},
   "outputs": [],
   "source": [
    "# ライブラリたち\n",
    "# おまじない\n",
    "import numpy as np\n",
    "import matplotlib.pyplot as plt\n",
    "import japanize_matplotlib\n",
    "import pandas as pd\n",
    "from IPython.display import display\n",
    "import seaborn as sns\n",
    "\n",
    "np.set_printoptions(precision=3, floatmode='fixed')\n",
    "plt.rcParams['font.size'] = 14\n",
    "plt.rcParams['figure.figsize'] = (6, 6)\n",
    "plt.rcParams['axes.grid'] = True\n",
    "pd.options.display.float_format = '{:.3f}'.format\n",
    "pd.set_option(\"display.max_columns\", None)"
   ]
  },
  {
   "cell_type": "code",
   "execution_count": null,
   "metadata": {},
   "outputs": [],
   "source": [
    "import pymc as pm\n",
    "import arviz as az\n",
    "\n",
    "# 確率モデルコンテキスト用インスタンス\n",
    "model = pm.Model()\n",
    "\n",
    "# インスタンスをwith文で指定\n",
    "with model:\n",
    "    # Binomial: 二項分布確率分布クラス\n",
    "    # p: 二項分布の元になる試行の成功確率\n",
    "    # n: 二項分布における試行回数\n",
    "    # 'x': サンプルとして出力される確率変数\n",
    "    x = pm.Binomial('x', p=0.5, n=5)"
   ]
  }
 ],
 "metadata": {
  "kernelspec": {
   "display_name": "Python 3",
   "language": "python",
   "name": "python3"
  },
  "language_info": {
   "codemirror_mode": {
    "name": "ipython",
    "version": 3
   },
   "file_extension": ".py",
   "mimetype": "text/x-python",
   "name": "python",
   "nbconvert_exporter": "python",
   "pygments_lexer": "ipython3",
   "version": "3.10.12"
  }
 },
 "nbformat": 4,
 "nbformat_minor": 2
}
